{
 "cells": [
  {
   "cell_type": "code",
   "execution_count": 7,
   "metadata": {},
   "outputs": [],
   "source": [
    "import uuid\n",
    "from src.system import server"
   ]
  },
  {
   "cell_type": "code",
   "execution_count": 9,
   "metadata": {},
   "outputs": [
    {
     "ename": "FileNotFoundError",
     "evalue": "[Errno 2] No such file or directory: 'data/users.json'",
     "output_type": "error",
     "traceback": [
      "\u001b[1;31m---------------------------------------------------------------------------\u001b[0m",
      "\u001b[1;31mFileNotFoundError\u001b[0m                         Traceback (most recent call last)",
      "\u001b[1;32md:\\Edicion y Codigo\\Criptografia_2023-24\\tests.ipynb Celda 2\u001b[0m line \u001b[0;36m2\n\u001b[0;32m      <a href='vscode-notebook-cell:/d%3A/Edicion%20y%20Codigo/Criptografia_2023-24/tests.ipynb#W2sZmlsZQ%3D%3D?line=0'>1</a>\u001b[0m sys \u001b[39m=\u001b[39m server\u001b[39m.\u001b[39mServer()\n\u001b[1;32m----> <a href='vscode-notebook-cell:/d%3A/Edicion%20y%20Codigo/Criptografia_2023-24/tests.ipynb#W2sZmlsZQ%3D%3D?line=1'>2</a>\u001b[0m sys\u001b[39m.\u001b[39;49mcreate_user(\u001b[39m'\u001b[39;49m\u001b[39muser1\u001b[39;49m\u001b[39m'\u001b[39;49m, \u001b[39m'\u001b[39;49m\u001b[39mpass1\u001b[39;49m\u001b[39m'\u001b[39;49m)\n\u001b[0;32m      <a href='vscode-notebook-cell:/d%3A/Edicion%20y%20Codigo/Criptografia_2023-24/tests.ipynb#W2sZmlsZQ%3D%3D?line=2'>3</a>\u001b[0m sys\u001b[39m.\u001b[39mcreate_user(\u001b[39m'\u001b[39m\u001b[39muser2\u001b[39m\u001b[39m'\u001b[39m, \u001b[39m'\u001b[39m\u001b[39mpass2\u001b[39m\u001b[39m'\u001b[39m)\n",
      "File \u001b[1;32md:\\Edicion y Codigo\\Criptografia_2023-24\\src\\system\\server.py:76\u001b[0m, in \u001b[0;36mServer.create_user\u001b[1;34m(self, name, password)\u001b[0m\n\u001b[0;32m     74\u001b[0m \u001b[39mself\u001b[39m\u001b[39m.\u001b[39m__users\u001b[39m.\u001b[39mappend(user)\n\u001b[0;32m     75\u001b[0m \u001b[39m# write in file\u001b[39;00m\n\u001b[1;32m---> 76\u001b[0m \u001b[39mself\u001b[39;49m\u001b[39m.\u001b[39;49m__update_json()\n",
      "File \u001b[1;32md:\\Edicion y Codigo\\Criptografia_2023-24\\src\\system\\server.py:113\u001b[0m, in \u001b[0;36mServer.__update_json\u001b[1;34m(self)\u001b[0m\n\u001b[0;32m    110\u001b[0m \u001b[39m\u001b[39m\u001b[39m\"\"\"Updates the json file with the current users\u001b[39;00m\n\u001b[0;32m    111\u001b[0m \u001b[39m\"\"\"\u001b[39;00m\n\u001b[0;32m    112\u001b[0m users_data \u001b[39m=\u001b[39m [user\u001b[39m.\u001b[39m\u001b[39m__dict__\u001b[39m() \u001b[39mfor\u001b[39;00m user \u001b[39min\u001b[39;00m \u001b[39mself\u001b[39m\u001b[39m.\u001b[39m__users]\n\u001b[1;32m--> 113\u001b[0m \u001b[39mwith\u001b[39;00m \u001b[39mopen\u001b[39;49m(\u001b[39m\"\u001b[39;49m\u001b[39mdata/users.json\u001b[39;49m\u001b[39m\"\u001b[39;49m, \u001b[39m\"\u001b[39;49m\u001b[39mw\u001b[39;49m\u001b[39m\"\u001b[39;49m) \u001b[39mas\u001b[39;00m file:\n\u001b[0;32m    114\u001b[0m     json\u001b[39m.\u001b[39mdump(users_data, file, indent\u001b[39m=\u001b[39m\u001b[39m4\u001b[39m)\n",
      "\u001b[1;31mFileNotFoundError\u001b[0m: [Errno 2] No such file or directory: 'data/users.json'"
     ]
    }
   ],
   "source": [
    "sys = server.Server()\n",
    "sys.create_user('user1', 'pass1')\n",
    "sys.create_user('user2', 'pass2')\n"
   ]
  },
  {
   "cell_type": "code",
   "execution_count": 15,
   "metadata": {},
   "outputs": [
    {
     "name": "stdout",
     "output_type": "stream",
     "text": [
      "dd8e62ae-a6f7-4ca3-8bd0-5610729b7b38\n",
      "2b4a2c3c-3b91-511a-bba7-f08e188a15a0\n",
      "2a8f6264-62c9-579e-8350-0d245c529782\n"
     ]
    }
   ],
   "source": [
    "NAMESPACE = uuid.uuid4()\n",
    "print(NAMESPACE)\n",
    "id1 = uuid.uuid5(NAMESPACE, 'id1')\n",
    "print(id1)\n",
    "id2 = uuid.uuid5(NAMESPACE, 'id2')\n",
    "print(id2)\n",
    "id3 = uuid.uuid5(NAMESPACE, 'id1')"
   ]
  }
 ],
 "metadata": {
  "kernelspec": {
   "display_name": ".venv",
   "language": "python",
   "name": "python3"
  },
  "language_info": {
   "codemirror_mode": {
    "name": "ipython",
    "version": 3
   },
   "file_extension": ".py",
   "mimetype": "text/x-python",
   "name": "python",
   "nbconvert_exporter": "python",
   "pygments_lexer": "ipython3",
   "version": "3.11.5"
  }
 },
 "nbformat": 4,
 "nbformat_minor": 2
}
